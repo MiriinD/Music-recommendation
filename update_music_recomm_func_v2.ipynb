{
 "cells": [
  {
   "cell_type": "code",
   "execution_count": 55,
   "id": "0acbe222-1892-40cd-9a28-4d8fababfd96",
   "metadata": {
    "tags": []
   },
   "outputs": [],
   "source": [
    "#Importing libraries:\n",
    "\n",
    "import pandas as pd\n",
    "import random\n",
    "from fuzzywuzzy import fuzz\n",
    "import string\n",
    "import re\n",
    "import numpy as np\n",
    "import pickle\n",
    "from sklearn.preprocessing import StandardScaler\n",
    "from sklearn.cluster import KMeans\n",
    "import matplotlib.pyplot as plt\n",
    "from sklearn.metrics import silhouette_score\n",
    "import config\n",
    "import spotipy\n",
    "import pandas as pd\n",
    "import json\n",
    "from spotipy.oauth2 import SpotifyClientCredentials\n",
    "from IPython.display import IFrame\n",
    "\n",
    "#Initialize SpotiPy with user credentials\n",
    "sp = spotipy.Spotify(auth_manager=SpotifyClientCredentials(client_id= config.client_id,\n",
    "                                                           client_secret= config.client_secret))"
   ]
  },
  {
   "cell_type": "code",
   "execution_count": 56,
   "id": "b4601d46-a309-4a95-bade-0d8585a0d144",
   "metadata": {},
   "outputs": [],
   "source": [
    "#Loading the datasets\n",
    "url1 = \"world_top_songs.csv\"\n",
    "top_world = pd.read_csv(url1)\n",
    "url2 = \"latin_top_songs.csv\"\n",
    "top_latin = pd.read_csv(url2)\n",
    "\n",
    "path1= 'afmusic_df.csv'\n",
    "afmusic_df = pd.read_csv(path1)\n",
    "afmusic_df\n",
    "path2= 'music_compl_df.csv'\n",
    "music_com_df = pd.read_csv(path2)"
   ]
  },
  {
   "cell_type": "code",
   "execution_count": 57,
   "id": "1b5068f4-9586-4e77-a052-43bebdfb2172",
   "metadata": {},
   "outputs": [],
   "source": [
    "#Cleaning users input\n",
    "def clean_input(user_input):\n",
    "    # Remove leading and trailing spaces\n",
    "    cleaned_input = user_input.strip()\n",
    "    \n",
    "    # Convert to lowercase\n",
    "    cleaned_input = cleaned_input.lower()\n",
    "    \n",
    "    # Remove symbols using regular expression\n",
    "    cleaned_input = re.sub(r'[^\\w\\s]', '', cleaned_input)\n",
    "    \n",
    "    return cleaned_input\n",
    "\n",
    "# Function to find the best match\n",
    "def find_best_match(user_input, column_values):\n",
    "    best_match = None\n",
    "    highest_similarity = 0\n",
    "\n",
    "    for value in column_values:\n",
    "        similarity = fuzz.partial_ratio(user_input, value)\n",
    "        if similarity > highest_similarity:\n",
    "            highest_similarity = similarity\n",
    "            best_match = value\n",
    "\n",
    "    return best_match, highest_similarity\n",
    "\n",
    "def play_song(track_id):\n",
    "    return IFrame(src=\"https://open.spotify.com/embed/track/\"+ track_id,\n",
    "       width=\"320\",\n",
    "       height=\"80\",\n",
    "       frameborder=\"0\",\n",
    "       allowtransparency=\"true\",\n",
    "       allow=\"encrypted-media\",\n",
    "        )\n",
    "\n",
    "def ask_and_clean_user_input():\n",
    "    user_input =  print(input('Write one of your favorite songs: '))  \n",
    "    clean_user_input = clean_input(user_input)\n",
    "    best_match, similarity = find_best_match(cleaned_user_input, top_world['song'].values)\n",
    "    return clean_user_input\n",
    "\n",
    "\n",
    "def display_song(cleaned_input):\n",
    "    results = sp.search(q= cleaned_input, limit=5, market=\"GB\")\n",
    "    track_id = results[\"tracks\"][\"items\"][0][\"id\"]\n",
    "    print('Here you can listen to your song: ')\n",
    "    return display(play_song(track_id))\n",
    "\n",
    "def recc_hot_song(intended_user_input):\n",
    "    print(f\"Congrats {intended_user_input} is one of the top world songs! We recommend you to listen to: \")\n",
    "    hot_song_column_values = top_world['song'].tolist()\n",
    "    random_hot_song = random.choice(hot_song_column_values)\n",
    "    print(random_hot_song)\n",
    "    return random_hot_song\n",
    "\n"
   ]
  },
  {
   "cell_type": "code",
   "execution_count": 58,
   "id": "20596198-dd93-4642-a6c4-448b6018b01b",
   "metadata": {
    "tags": []
   },
   "outputs": [],
   "source": [
    "#ML algorthm K-Means\n",
    "\n",
    "def music_df_clusters_ML():\n",
    "    X = pd.DataFrame(afmusic_df)\n",
    "    scaler = StandardScaler()\n",
    "    scaler.fit(X)\n",
    "    X_scaled = scaler.transform(X)\n",
    "    X_scaled_df = pd.DataFrame(X_scaled, columns = X.columns)\n",
    "    kmeans = KMeans(n_clusters= 16, random_state=1234)\n",
    "    kmeans.fit(X_scaled_df)\n",
    "    labels = kmeans.labels_\n",
    "    clusters = kmeans.predict(X_scaled_df)\n",
    "    music_com_df['cluster']= clusters\n",
    "    return music_com_df\n",
    "    \n",
    "def get_user_track_id(cleaned_input):\n",
    "    results = sp.search(q= cleaned_input, limit=5, market=\"GB\")\n",
    "    user_track_id = results[\"tracks\"][\"items\"][0][\"id\"]\n",
    "    return user_track_id\n",
    "\n",
    "def ML_recc_song(user_track_id, music_com_df):\n",
    "    X = pd.DataFrame(afmusic_df)\n",
    "    scaler = StandardScaler()\n",
    "    scaler.fit(X)\n",
    "    X_scaled = scaler.transform(X)\n",
    "    X_scaled_df = pd.DataFrame(X_scaled, columns = X.columns)\n",
    "    kmeans = KMeans(n_clusters= 15, random_state=1234)\n",
    "    kmeans.fit(X_scaled_df)\n",
    "    labels = kmeans.labels_\n",
    "    clusters = kmeans.predict(X_scaled_df)\n",
    "\n",
    "    af_users_song= sp.audio_features(user_track_id)\n",
    "    af_users_song_df= pd.DataFrame(af_users_song)\n",
    "    af_users_song_df.drop(columns= ['type', 'id', 'uri', 'track_href', 'analysis_url'], inplace= True)\n",
    "    \n",
    "    user_song_scaled = scaler.transform(af_users_song_df)\n",
    "    user_song_scaled_df = pd.DataFrame(user_song_scaled, columns = af_users_song_df.columns)\n",
    "    a_cluster_song2recommend = kmeans.predict(user_song_scaled_df)\n",
    "    cluster_song2recommend = a_cluster_song2recommend[0]\n",
    "\n",
    "    #select a random song from my database that have the same cluster\n",
    "    song_cluster_df= music_com_df[music_com_df['cluster'] == cluster_song2recommend]\n",
    "    #select a random song from my database\n",
    "    cluster_column_values = song_cluster_df['id'].tolist()\n",
    "    id_random_cluster_song = random.choice(cluster_column_values)\n",
    "    print(f\"Hey the song is not in the top 100, but I can recommend you a song that I'm pretty sure you will like:\")\n",
    "    return display(play_song(id_random_cluster_song))\n",
    "    \n",
    "\n"
   ]
  },
  {
   "cell_type": "code",
   "execution_count": 59,
   "id": "b0558a5d-85af-4003-b7a7-d28707febfac",
   "metadata": {},
   "outputs": [],
   "source": [
    "def recommend_song():\n",
    "    user_input =  input('Write one of your favorite songs: ')\n",
    "    clean_user_input = clean_input(user_input)\n",
    "    best_match, similarity = find_best_match(clean_user_input, top_world['song'].values)\n",
    "    display_song(clean_user_input)\n",
    "    # Check if similarity is at least 60%\n",
    "    if similarity >= 70:\n",
    "        response = input(f\"We found a possible match for top hot songs: '{best_match}'. Is this what you mean? (yes/no): \")\n",
    "        if response.lower() in ['yes', 'yeah', 'yep', 'ye']:\n",
    "            if best_match in top_world[\"song\"].values:\n",
    "                recc_hot_song(best_match)\n",
    "                display_song(recc_hot_song)\n",
    "        else:\n",
    "            attempt= input('Sorry, we could not understand your song, do you want to try again? (yes/no)')\n",
    "            if attempt.lower() in ['yes', 'yeah', 'yep', 'ye']:\n",
    "                user_input =  input('Write one of your favorite songs: ')\n",
    "                clean_user_input = clean_input(user_input)\n",
    "                display_song(clean_user_input)\n",
    "                #Check again if this song is in the top hot or not\n",
    "                if clean_user_input in top_world[\"song\"].str.lower().values:\n",
    "                    recc_hot_song(clean_user_input)\n",
    "                    display_song(recc_hot_song) #Potential improvement add while loops for making sure is the song the user wants and to guarantee the song they enter is not the same they get recommended\n",
    "                else:\n",
    "                    music_df_clusters_ML()\n",
    "                    ML_recc_song(get_user_track_id(clean_user_input), music_df_clusters_ML())\n",
    "            else:\n",
    "                print('Ok, see you next time')\n",
    "                exit \n",
    "    else:\n",
    "        music_df_clusters_ML()\n",
    "        ML_recc_song(get_user_track_id(clean_user_input), music_df_clusters_ML())\n",
    "            "
   ]
  },
  {
   "cell_type": "code",
   "execution_count": 60,
   "id": "8cabd4e3-8fc1-4b37-996b-eff8381a5453",
   "metadata": {},
   "outputs": [
    {
     "name": "stdin",
     "output_type": "stream",
     "text": [
      "Write one of your favorite songs:  flo\n"
     ]
    },
    {
     "name": "stdout",
     "output_type": "stream",
     "text": [
      "Here you can listen to your song: \n"
     ]
    },
    {
     "data": {
      "text/html": [
       "\n",
       "        <iframe\n",
       "            width=\"320\"\n",
       "            height=\"80\"\n",
       "            src=\"https://open.spotify.com/embed/track/7DSAEUvxU8FajXtRloy8M0?frameborder=0&allowtransparency=true&allow=encrypted-media\"\n",
       "            frameborder=\"0\"\n",
       "            allowfullscreen\n",
       "            \n",
       "        ></iframe>\n",
       "        "
      ],
      "text/plain": [
       "<IPython.lib.display.IFrame at 0x103cfd810>"
      ]
     },
     "metadata": {},
     "output_type": "display_data"
    },
    {
     "name": "stdin",
     "output_type": "stream",
     "text": [
      "We found a possible match for top hot songs: 'Murder On The Dancefloor'. Is this what you mean? (yes/no):  no\n",
      "Sorry, we could not understand your song, do you want to try again? (yes/no) yes\n",
      "Write one of your favorite songs:  la bamba\n"
     ]
    },
    {
     "name": "stdout",
     "output_type": "stream",
     "text": [
      "Here you can listen to your song: \n"
     ]
    },
    {
     "data": {
      "text/html": [
       "\n",
       "        <iframe\n",
       "            width=\"320\"\n",
       "            height=\"80\"\n",
       "            src=\"https://open.spotify.com/embed/track/0uMMLry3hzWGn3q3loqMkm?frameborder=0&allowtransparency=true&allow=encrypted-media\"\n",
       "            frameborder=\"0\"\n",
       "            allowfullscreen\n",
       "            \n",
       "        ></iframe>\n",
       "        "
      ],
      "text/plain": [
       "<IPython.lib.display.IFrame at 0x143d9b090>"
      ]
     },
     "metadata": {},
     "output_type": "display_data"
    },
    {
     "name": "stdout",
     "output_type": "stream",
     "text": [
      "Hey the song is not in the top 100, but I can recommend you a song that I'm pretty sure you will like:\n"
     ]
    },
    {
     "data": {
      "text/html": [
       "\n",
       "        <iframe\n",
       "            width=\"320\"\n",
       "            height=\"80\"\n",
       "            src=\"https://open.spotify.com/embed/track/0AcgKF7kbSoCkh3n7vlHwK?frameborder=0&allowtransparency=true&allow=encrypted-media\"\n",
       "            frameborder=\"0\"\n",
       "            allowfullscreen\n",
       "            \n",
       "        ></iframe>\n",
       "        "
      ],
      "text/plain": [
       "<IPython.lib.display.IFrame at 0x143e03c90>"
      ]
     },
     "metadata": {},
     "output_type": "display_data"
    }
   ],
   "source": [
    "recommend_song()"
   ]
  },
  {
   "cell_type": "code",
   "execution_count": null,
   "id": "c0698e64-b2bb-4eaa-b364-a8d4ea775763",
   "metadata": {},
   "outputs": [],
   "source": []
  },
  {
   "cell_type": "code",
   "execution_count": null,
   "id": "28106f3b-6200-437a-9524-2760eb3e42ca",
   "metadata": {},
   "outputs": [],
   "source": []
  }
 ],
 "metadata": {
  "kernelspec": {
   "display_name": "Python 3 (ipykernel)",
   "language": "python",
   "name": "python3"
  },
  "language_info": {
   "codemirror_mode": {
    "name": "ipython",
    "version": 3
   },
   "file_extension": ".py",
   "mimetype": "text/x-python",
   "name": "python",
   "nbconvert_exporter": "python",
   "pygments_lexer": "ipython3",
   "version": "3.11.7"
  }
 },
 "nbformat": 4,
 "nbformat_minor": 5
}
