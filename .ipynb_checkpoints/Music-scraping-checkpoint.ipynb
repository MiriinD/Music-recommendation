{
 "cells": [
  {
   "cell_type": "code",
   "execution_count": 1,
   "id": "6d56c850",
   "metadata": {},
   "outputs": [
    {
     "name": "stdout",
     "output_type": "stream",
     "text": [
      "Intel MKL WARNING: Support of Intel(R) Streaming SIMD Extensions 4.2 (Intel(R) SSE4.2) enabled only processors has been deprecated. Intel oneAPI Math Kernel Library 2025.0 will require Intel(R) Advanced Vector Extensions (Intel(R) AVX) instructions.\n",
      "Intel MKL WARNING: Support of Intel(R) Streaming SIMD Extensions 4.2 (Intel(R) SSE4.2) enabled only processors has been deprecated. Intel oneAPI Math Kernel Library 2025.0 will require Intel(R) Advanced Vector Extensions (Intel(R) AVX) instructions.\n"
     ]
    }
   ],
   "source": [
    "from bs4 import BeautifulSoup\n",
    "import requests\n",
    "import pandas as pd"
   ]
  },
  {
   "cell_type": "code",
   "execution_count": 2,
   "id": "a9769ead",
   "metadata": {},
   "outputs": [],
   "source": [
    "url = \"https://www.billboard.com/charts/hot-100/#\"\n",
    "response = requests.get(url)\n",
    "soup = BeautifulSoup(response.content)\n",
    "soup = BeautifulSoup(response.content, \"html.parser\")\n",
    "\n",
    "\n",
    "hiss= soup.select(\"h3.c-title.a-font-primary-bold-l\")"
   ]
  },
  {
   "cell_type": "code",
   "execution_count": 3,
   "id": "a10d7300",
   "metadata": {},
   "outputs": [
    {
     "data": {
      "text/plain": [
       "<h3 class=\"c-title a-font-primary-bold-l a-font-primary-bold-m@mobile-max lrv-u-color-black u-color-white@mobile-max lrv-u-margin-r-150\" id=\"\">\n",
       "<a class=\"c-title__link lrv-a-unstyle-link\" href=\"#\">\n",
       "\t\n",
       "\t\t\n",
       "\t\t\t\t\tLovin On Me\t\t\n",
       "\t\t\t\t\t</a>\n",
       "</h3>"
      ]
     },
     "execution_count": 3,
     "metadata": {},
     "output_type": "execute_result"
    }
   ],
   "source": [
    "hiss[0]#.get_text()"
   ]
  },
  {
   "cell_type": "code",
   "execution_count": 4,
   "id": "7dbf2a4d",
   "metadata": {},
   "outputs": [
    {
     "data": {
      "text/plain": [
       "'\\n\\n\\t\\n\\t\\t\\n\\t\\t\\t\\t\\tLovin On Me\\t\\t\\n\\t\\t\\t\\t\\t\\n'"
      ]
     },
     "execution_count": 4,
     "metadata": {},
     "output_type": "execute_result"
    }
   ],
   "source": [
    "hiss[0].get_text()#.strip() getting rid of empty spaces"
   ]
  },
  {
   "cell_type": "code",
   "execution_count": 5,
   "id": "a53c07b8",
   "metadata": {},
   "outputs": [
    {
     "data": {
      "text/plain": [
       "'Lovin On Me'"
      ]
     },
     "execution_count": 5,
     "metadata": {},
     "output_type": "execute_result"
    }
   ],
   "source": [
    "hiss[0].get_text(strip= True)"
   ]
  },
  {
   "cell_type": "code",
   "execution_count": 6,
   "id": "6983ff3d",
   "metadata": {
    "scrolled": true
   },
   "outputs": [
    {
     "data": {
      "text/plain": [
       "['Lovin On Me',\n",
       " 'Lose Control',\n",
       " 'Beautiful Things',\n",
       " 'Cruel Summer',\n",
       " 'Snooze',\n",
       " 'I Remember Everything',\n",
       " 'Greedy',\n",
       " 'Fast Car',\n",
       " 'Agora Hills',\n",
       " 'Flowers',\n",
       " 'Stick Season',\n",
       " 'Water',\n",
       " 'Hiss',\n",
       " 'Redrum',\n",
       " 'Last Night',\n",
       " \"Thinkin' Bout Me\",\n",
       " 'Paint The Town Red',\n",
       " \"Is It Over Now? (Taylor's Version) [From The Vault]\",\n",
       " 'Never Lose Me',\n",
       " 'What Was I Made For?',\n",
       " 'Yes, And?',\n",
       " 'Houdini',\n",
       " 'Selfish',\n",
       " 'Pretty Little Poison',\n",
       " 'La Diabla',\n",
       " 'Where The Wild Things Are',\n",
       " 'Everybody',\n",
       " 'Made For Me',\n",
       " 'Vampire',\n",
       " 'The Painter',\n",
       " 'White Horse',\n",
       " 'Rich Baby Daddy',\n",
       " 'On My Mama',\n",
       " 'Exes',\n",
       " 'Wild Ones',\n",
       " 'Feather',\n",
       " 'Dance The Night',\n",
       " 'Bandit',\n",
       " 'Need A Favor',\n",
       " 'Save Me',\n",
       " 'Fukumean',\n",
       " 'Fast Car',\n",
       " 'Lil Boo Thang',\n",
       " 'World On Fire',\n",
       " 'Good Good',\n",
       " 'Truck Bed',\n",
       " 'First Person Shooter',\n",
       " 'Surround Sound',\n",
       " 'Strangers',\n",
       " 'My Love Mine All Mine',\n",
       " 'Spin You Around (1/24)',\n",
       " 'Think U The Shit (Fart)',\n",
       " 'Igual Que Un Angel',\n",
       " 'FTCU',\n",
       " 'Burn It Down',\n",
       " 'La Victima',\n",
       " 'One Of The Girls',\n",
       " 'Nee-nah',\n",
       " 'Murder On The Dancefloor',\n",
       " 'Praise Jah In The Moonlight',\n",
       " 'Act II: Date @ 8',\n",
       " 'Turn The Lights Back On',\n",
       " 'Man Made A Bar',\n",
       " 'One Call',\n",
       " 'You Broke My Heart',\n",
       " \"Different 'Round Here\",\n",
       " 'Harley Quinn',\n",
       " 'Get In With Me',\n",
       " 'FE!N',\n",
       " 'Bellakeo',\n",
       " '500lbs',\n",
       " 'IDGAF',\n",
       " 'I Can Feel It',\n",
       " '23',\n",
       " 'Prove It',\n",
       " 'Soak City',\n",
       " 'Monaco',\n",
       " \"Mamaw's House\",\n",
       " \"We Don't Fight Anymore\",\n",
       " 'Home',\n",
       " 'Standing Next To You',\n",
       " 'Perro Negro',\n",
       " 'Mmhmm',\n",
       " 'Oklahoma Smokeshow',\n",
       " 'My Eyes',\n",
       " 'Coal',\n",
       " 'A Cold Sunday',\n",
       " 'All Of Me',\n",
       " 'N.H.I.E.',\n",
       " \"Should've Wore A Bonnet\",\n",
       " 'Que Onda',\n",
       " 'Wondering Why',\n",
       " 'Y Lloro',\n",
       " 'Sensational',\n",
       " 'Wildflowers And Wild Horses',\n",
       " 'Worth It',\n",
       " 'Northern Attitude',\n",
       " 'Scared To Start',\n",
       " 'First Love',\n",
       " 'Where It Ends']"
      ]
     },
     "execution_count": 6,
     "metadata": {},
     "output_type": "execute_result"
    }
   ],
   "source": [
    "songs= []\n",
    "for song in soup.select(\"li.o-chart-results-list__item h3.c-title\"):# span titles inside li element class booklink, just space to get the final\n",
    "    songs.append(song.get_text(strip=True))\n",
    "    \n",
    "songs"
   ]
  },
  {
   "cell_type": "code",
   "execution_count": 7,
   "id": "65b48f0b",
   "metadata": {
    "scrolled": true
   },
   "outputs": [
    {
     "data": {
      "text/plain": [
       "100"
      ]
     },
     "execution_count": 7,
     "metadata": {},
     "output_type": "execute_result"
    }
   ],
   "source": [
    "singers= []\n",
    "for singer in soup.select(\"li.o-chart-results-list__item span.c-label.a-no-trucate\"):# span titles inside li element class booklink, just space to get the final\n",
    "    singers.append(singer.get_text(strip=True))\n",
    "    \n",
    "len(singers)"
   ]
  },
  {
   "cell_type": "code",
   "execution_count": 8,
   "id": "be677586",
   "metadata": {},
   "outputs": [],
   "source": [
    "top_pop_songs = pd.DataFrame({'song': songs, 'artist':singers})\n",
    "top_pop_songs.to_csv('world_top_songs.csv', index= False)"
   ]
  },
  {
   "cell_type": "code",
   "execution_count": 9,
   "id": "88108115",
   "metadata": {},
   "outputs": [],
   "source": [
    "url = \"https://www.popvortex.com/music/charts/top-latin-songs.php\"\n",
    "response = requests.get(url)\n",
    "soup = BeautifulSoup(response.content)\n",
    "soup = BeautifulSoup(response.content, \"html.parser\")\n"
   ]
  },
  {
   "cell_type": "code",
   "execution_count": 10,
   "id": "ddb8f145",
   "metadata": {
    "scrolled": true
   },
   "outputs": [
    {
     "data": {
      "text/plain": [
       "['Igual Que Un Ángel',\n",
       " 'La Diabla',\n",
       " 'La Víctima',\n",
       " 'Gasolina (Dj Buddha Remix)',\n",
       " 'Sugar Daddy (feat. Flo Rida & Jowell & Randy)',\n",
       " 'MONACO',\n",
       " 'Necesito Encontrarte (En Vivo)',\n",
       " 'BELLAKEO',\n",
       " 'La Primera Cita',\n",
       " 'HARLEY QUINN',\n",
       " 'La Suma',\n",
       " 'First Love',\n",
       " 'QLONA',\n",
       " 'Según Quién',\n",
       " 'Bailando Bachata',\n",
       " 'Te Lo Agradezco',\n",
       " 'MI EX TENÍA RAZÓN',\n",
       " 'La Intención',\n",
       " 'Whenever, Wherever',\n",
       " \"Livin' la Vida Loca\",\n",
       " 'Pepas',\n",
       " 'Tití Me Preguntó',\n",
       " 'Danza Kuduro (feat. Lucenzo)',\n",
       " 'POR EL CONTRARIO (with Leonardo Aguilar & Ángela Aguilar)',\n",
       " 'Vivir Mi Vida',\n",
       " 'Conga',\n",
       " 'un x100to',\n",
       " 'Que Vuelvas',\n",
       " 'AMARGURA',\n",
       " 'Punta Cana',\n",
       " 'BONITA',\n",
       " 'Overnight',\n",
       " 'Labios Mordidos',\n",
       " 'Eres Mía',\n",
       " 'Ella Baila Sola',\n",
       " 'La Bebe (Remix)',\n",
       " 'Confieso',\n",
       " 'TULUM',\n",
       " 'Give Me Everything (feat. Afrojack, Nayer and Neyo)',\n",
       " 'Qué Agonía',\n",
       " 'PERRO NEGRO',\n",
       " 'Lo Tienes Todo',\n",
       " 'Lollipop',\n",
       " 'La Cumbia Triste',\n",
       " 'Alucin',\n",
       " 'Historia',\n",
       " 'BAD BOY (feat. Anuel AA & Ozuna)',\n",
       " 'BLING BLING',\n",
       " 'Sin Pagar Renta',\n",
       " 'Suavemente',\n",
       " 'Macarena (Bayside Boys Remix)',\n",
       " 'Despacito',\n",
       " 'Ocean',\n",
       " 'MAMIII',\n",
       " 'TQG',\n",
       " 'Yo Te Extrañaré',\n",
       " 'Dreaming Of You',\n",
       " 'La Bachata',\n",
       " 'Gasolina',\n",
       " 'LALA',\n",
       " 'Bidi Bidi Bom Bom',\n",
       " 'LADY GAGA',\n",
       " 'EL AMOR DE SU VIDA',\n",
       " 'RUBICON',\n",
       " 'ASI ES LA VIDA',\n",
       " 'DILUVIO',\n",
       " 'Poco A Poco',\n",
       " 'Modo DND',\n",
       " 'Tacata (Remix)',\n",
       " 'Somos Latinos',\n",
       " 'ALV',\n",
       " 'LA FALDA',\n",
       " 'Young Miko: Bzrp Music Sessions, Vol. 58',\n",
       " 'BUBALU',\n",
       " 'Porte de Scarface',\n",
       " 'Qué Bendición',\n",
       " 'Patadas de Ahogado',\n",
       " 'GAVILÁN II',\n",
       " 'Bochinchero',\n",
       " 'Madrid City',\n",
       " 'TÚ NAME',\n",
       " 'Promise (feat. Usher)',\n",
       " 'DUELE EL CORAZON (feat. Wisin)',\n",
       " 'Toma',\n",
       " 'Calma (Remix)',\n",
       " 'Tusa',\n",
       " 'Mi Tierra',\n",
       " 'DÁKITI',\n",
       " 'telepatía',\n",
       " 'La Chona',\n",
       " 'Bebe Dame',\n",
       " 'No Crezcas Más',\n",
       " 'I Could Fall In Love',\n",
       " 'Dale Don Dale',\n",
       " 'El Tóxico',\n",
       " 'Bailamos',\n",
       " 'I Like It (feat. Pitbull)',\n",
       " 'Como La Flor',\n",
       " 'Dile',\n",
       " 'Bandoleros (feat. Tego Calderón)']"
      ]
     },
     "execution_count": 10,
     "metadata": {},
     "output_type": "execute_result"
    }
   ],
   "source": [
    "l_songs= []\n",
    "for song in soup.select(\"p.title-artist cite.title\"):\n",
    "    l_songs.append(song.get_text())\n",
    "    \n",
    "l_songs"
   ]
  },
  {
   "cell_type": "code",
   "execution_count": 11,
   "id": "e9f88c51",
   "metadata": {
    "scrolled": true
   },
   "outputs": [
    {
     "data": {
      "text/plain": [
       "['Kali Uchis & Peso Pluma',\n",
       " 'Xavi',\n",
       " 'Xavi',\n",
       " 'Daddy Yankee, Lil Jon, Noriega & Pitbull',\n",
       " 'Oya Baby, El Alfa & Alex Sensation',\n",
       " 'Bad Bunny',\n",
       " 'Carin Leon',\n",
       " 'Peso Pluma & Anitta',\n",
       " 'Carin Leon',\n",
       " 'Fuerza Regida & Marshmello',\n",
       " 'Javier Rosas y Su Artillería Pesada & Lupe Borbon y su Blindaje 7',\n",
       " 'Oscar Ortiz & Edgardo Nuñez',\n",
       " 'KAROL G & Peso Pluma',\n",
       " 'Maluma & Carin Leon',\n",
       " 'Chayanne',\n",
       " 'Kany García & Carin Leon',\n",
       " 'KAROL G',\n",
       " 'Christian Nodal & Peso Pluma',\n",
       " 'Shakira',\n",
       " 'Ricky Martin',\n",
       " 'Farruko',\n",
       " 'Bad Bunny',\n",
       " 'Don Omar',\n",
       " 'Becky G',\n",
       " 'Marc Anthony',\n",
       " 'Gloria Estefan & Gloria Estefan & Miami Sound Machine',\n",
       " 'Grupo Frontera & Bad Bunny',\n",
       " 'Carin Leon & Grupo Frontera',\n",
       " 'KAROL G',\n",
       " 'Marc Anthony',\n",
       " 'Daddy Yankee',\n",
       " 'Connor Price & Tommy Royale',\n",
       " 'Kali Uchis & KAROL G',\n",
       " 'Romeo Santos',\n",
       " 'Eslabon Armado & Peso Pluma',\n",
       " 'Yng Lvcas & Peso Pluma',\n",
       " 'Kany García',\n",
       " 'Peso Pluma & Grupo Frontera',\n",
       " 'Pitbull',\n",
       " 'Yuridia & Ángela Aguilar',\n",
       " 'Bad Bunny & Feid',\n",
       " 'Julión Álvarez y su Norteño Banda',\n",
       " 'Darell',\n",
       " 'Los Ángeles Azules & Alejandro Fernández',\n",
       " 'Eugenio Esquivel, Grupo Marca Registrada & Sebastian Esquivel',\n",
       " 'Jay Wheeler',\n",
       " 'Chris Jedi, Gaby Music & Dei V',\n",
       " 'Maluma, Octavio Cuadras & Grupo Marca Registrada',\n",
       " 'Xavi',\n",
       " 'Elvis Crespo',\n",
       " 'Los del Río',\n",
       " 'Luis Fonsi & Daddy Yankee',\n",
       " 'KAROL G',\n",
       " 'Becky G & KAROL G',\n",
       " 'KAROL G & Shakira',\n",
       " 'Tercer Cielo',\n",
       " 'Selena',\n",
       " 'Manuel Turizo',\n",
       " 'Daddy Yankee',\n",
       " 'Myke Towers',\n",
       " 'Selena',\n",
       " 'Peso Pluma, Gabito Ballesteros & Junior H',\n",
       " 'Grupo Frontera & Grupo Firme',\n",
       " 'Peso Pluma',\n",
       " 'Enrique Iglesias & Maria Becerra',\n",
       " 'Rauw Alejandro',\n",
       " 'Xavi & Los Dareyes De La Sierra',\n",
       " 'Xavi & Tony Aguirre',\n",
       " 'Tiagz, Fuerza Regida & El Alfa',\n",
       " 'Play-N-Skillz, Gente de Zona & Dale Pututi',\n",
       " 'Arcángel & Grupo Frontera',\n",
       " 'Myke Towers',\n",
       " 'Bizarrap & Young Miko',\n",
       " 'Feid & Rema',\n",
       " 'Chuy Montana',\n",
       " 'Chuy Montana',\n",
       " 'LATIN MAFIA & Humbe',\n",
       " 'Peso Pluma & Tito Double P',\n",
       " 'Motiff & Tito Nieves',\n",
       " 'Ana Mena',\n",
       " 'Fuerza Regida',\n",
       " 'Romeo Santos',\n",
       " 'Enrique Iglesias',\n",
       " 'Lil Jon & Pitbull',\n",
       " 'Pedro Capó & Farruko',\n",
       " 'KAROL G & Nicki Minaj',\n",
       " 'Gloria Estefan',\n",
       " 'Bad Bunny & Jhayco',\n",
       " 'Kali Uchis',\n",
       " 'Los Tucanes de Tijuana',\n",
       " 'Fuerza Regida & Grupo Frontera',\n",
       " 'Tercer Cielo',\n",
       " 'Selena',\n",
       " 'Don Omar',\n",
       " 'Grupo Firme & Carin Leon',\n",
       " 'Enrique Iglesias',\n",
       " 'Enrique Iglesias',\n",
       " 'Selena',\n",
       " 'Don Omar',\n",
       " 'Don Omar']"
      ]
     },
     "execution_count": 11,
     "metadata": {},
     "output_type": "execute_result"
    }
   ],
   "source": [
    "l_artists= []\n",
    "for artist in soup.select(\"p.title-artist em.artist\"):\n",
    "    l_artists.append(artist.get_text())\n",
    "    \n",
    "l_artists"
   ]
  },
  {
   "cell_type": "code",
   "execution_count": 12,
   "id": "ed6e05f7",
   "metadata": {},
   "outputs": [],
   "source": [
    "top_latin_songs = pd.DataFrame({'latin_song': l_songs, 'latin_artist':l_artists})\n",
    "top_latin_songs.to_csv(\"latin_top_songs.csv\", index= False)"
   ]
  },
  {
   "cell_type": "code",
   "execution_count": 13,
   "id": "dab7e40d",
   "metadata": {},
   "outputs": [
    {
     "data": {
      "text/plain": [
       "200"
      ]
     },
     "execution_count": 13,
     "metadata": {},
     "output_type": "execute_result"
    }
   ],
   "source": [
    "url = \"https://www.shazam.com/charts/top-200/mexico\"\n",
    "response= requests.get(url)\n",
    "soup= BeautifulSoup (response.content)\n",
    "response.status_code"
   ]
  },
  {
   "cell_type": "code",
   "execution_count": 14,
   "id": "6dedb884",
   "metadata": {},
   "outputs": [
    {
     "data": {
      "text/plain": [
       "[]"
      ]
     },
     "execution_count": 14,
     "metadata": {},
     "output_type": "execute_result"
    }
   ],
   "source": [
    "soup.select('a[href=\"https://music.apple.com/de/album/yeah-feat-lil-jon-ludacris/386153476?i=386153478\"]')"
   ]
  },
  {
   "cell_type": "code",
   "execution_count": 15,
   "id": "7db678ba",
   "metadata": {},
   "outputs": [
    {
     "data": {
      "text/plain": [
       "[]"
      ]
     },
     "execution_count": 15,
     "metadata": {},
     "output_type": "execute_result"
    }
   ],
   "source": [
    "top_mex_songs= []\n",
    "for song in soup.select(\"div.title\"):\n",
    "    top_mex_songs.append(song.get_text())\n",
    "    \n",
    "top_mex_songs"
   ]
  },
  {
   "cell_type": "code",
   "execution_count": null,
   "id": "498d4bc4",
   "metadata": {},
   "outputs": [],
   "source": []
  }
 ],
 "metadata": {
  "kernelspec": {
   "display_name": "Python 3 (ipykernel)",
   "language": "python",
   "name": "python3"
  },
  "language_info": {
   "codemirror_mode": {
    "name": "ipython",
    "version": 3
   },
   "file_extension": ".py",
   "mimetype": "text/x-python",
   "name": "python",
   "nbconvert_exporter": "python",
   "pygments_lexer": "ipython3",
   "version": "3.8.18"
  }
 },
 "nbformat": 4,
 "nbformat_minor": 5
}
