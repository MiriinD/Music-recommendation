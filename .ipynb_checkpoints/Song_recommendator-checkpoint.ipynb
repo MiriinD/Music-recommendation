{
 "cells": [
  {
   "cell_type": "code",
   "execution_count": 1,
   "id": "7440ffb7-8baf-4ac7-b34d-8efe3d05d560",
   "metadata": {
    "tags": []
   },
   "outputs": [
    {
     "name": "stdout",
     "output_type": "stream",
     "text": [
      "Requirement already satisfied: fuzzywuzzy in /Users/miriamg/anaconda3/lib/python3.11/site-packages (0.18.0)\n",
      "Note: you may need to restart the kernel to use updated packages.\n"
     ]
    }
   ],
   "source": [
    "pip install fuzzywuzzy"
   ]
  },
  {
   "cell_type": "code",
   "execution_count": 2,
   "id": "0acbe222-1892-40cd-9a28-4d8fababfd96",
   "metadata": {
    "tags": []
   },
   "outputs": [
    {
     "data": {
      "text/html": [
       "<div>\n",
       "<style scoped>\n",
       "    .dataframe tbody tr th:only-of-type {\n",
       "        vertical-align: middle;\n",
       "    }\n",
       "\n",
       "    .dataframe tbody tr th {\n",
       "        vertical-align: top;\n",
       "    }\n",
       "\n",
       "    .dataframe thead th {\n",
       "        text-align: right;\n",
       "    }\n",
       "</style>\n",
       "<table border=\"1\" class=\"dataframe\">\n",
       "  <thead>\n",
       "    <tr style=\"text-align: right;\">\n",
       "      <th></th>\n",
       "      <th>song</th>\n",
       "      <th>artist</th>\n",
       "    </tr>\n",
       "  </thead>\n",
       "  <tbody>\n",
       "    <tr>\n",
       "      <th>0</th>\n",
       "      <td>Igual Que Un Ángel</td>\n",
       "      <td>Kali Uchis &amp; Peso Pluma</td>\n",
       "    </tr>\n",
       "    <tr>\n",
       "      <th>1</th>\n",
       "      <td>Sugar Daddy (feat. Flo Rida &amp; Jowell &amp; Randy)</td>\n",
       "      <td>Oya Baby, El Alfa &amp; Alex Sensation</td>\n",
       "    </tr>\n",
       "    <tr>\n",
       "      <th>2</th>\n",
       "      <td>La Diabla</td>\n",
       "      <td>Xavi</td>\n",
       "    </tr>\n",
       "    <tr>\n",
       "      <th>3</th>\n",
       "      <td>Gasolina (Dj Buddha Remix)</td>\n",
       "      <td>Daddy Yankee, Lil Jon, Noriega &amp; Pitbull</td>\n",
       "    </tr>\n",
       "    <tr>\n",
       "      <th>4</th>\n",
       "      <td>La Víctima</td>\n",
       "      <td>Xavi</td>\n",
       "    </tr>\n",
       "    <tr>\n",
       "      <th>...</th>\n",
       "      <td>...</td>\n",
       "      <td>...</td>\n",
       "    </tr>\n",
       "    <tr>\n",
       "      <th>95</th>\n",
       "      <td>Cuando Él Me Toca (feat. Arianny Aquino)</td>\n",
       "      <td>Propósito</td>\n",
       "    </tr>\n",
       "    <tr>\n",
       "      <th>96</th>\n",
       "      <td>Asignatura Pendiente</td>\n",
       "      <td>Alfredo Olivas</td>\n",
       "    </tr>\n",
       "    <tr>\n",
       "      <th>97</th>\n",
       "      <td>tu</td>\n",
       "      <td>EthanUno</td>\n",
       "    </tr>\n",
       "    <tr>\n",
       "      <th>98</th>\n",
       "      <td>Fuego</td>\n",
       "      <td>Pitbull</td>\n",
       "    </tr>\n",
       "    <tr>\n",
       "      <th>99</th>\n",
       "      <td>Hotel California (Spanish Mix)</td>\n",
       "      <td>Gipsy Kings</td>\n",
       "    </tr>\n",
       "  </tbody>\n",
       "</table>\n",
       "<p>100 rows × 2 columns</p>\n",
       "</div>"
      ],
      "text/plain": [
       "                                             song  \\\n",
       "0                              Igual Que Un Ángel   \n",
       "1   Sugar Daddy (feat. Flo Rida & Jowell & Randy)   \n",
       "2                                       La Diabla   \n",
       "3                      Gasolina (Dj Buddha Remix)   \n",
       "4                                      La Víctima   \n",
       "..                                            ...   \n",
       "95       Cuando Él Me Toca (feat. Arianny Aquino)   \n",
       "96                           Asignatura Pendiente   \n",
       "97                                             tu   \n",
       "98                                          Fuego   \n",
       "99                 Hotel California (Spanish Mix)   \n",
       "\n",
       "                                      artist  \n",
       "0                    Kali Uchis & Peso Pluma  \n",
       "1         Oya Baby, El Alfa & Alex Sensation  \n",
       "2                                       Xavi  \n",
       "3   Daddy Yankee, Lil Jon, Noriega & Pitbull  \n",
       "4                                       Xavi  \n",
       "..                                       ...  \n",
       "95                                 Propósito  \n",
       "96                            Alfredo Olivas  \n",
       "97                                  EthanUno  \n",
       "98                                   Pitbull  \n",
       "99                               Gipsy Kings  \n",
       "\n",
       "[100 rows x 2 columns]"
      ]
     },
     "execution_count": 2,
     "metadata": {},
     "output_type": "execute_result"
    }
   ],
   "source": [
    "import pandas as pd\n",
    "import random\n",
    "from fuzzywuzzy import fuzz\n",
    "import string\n",
    "import re\n",
    "\n",
    "url1 = \"world_top_songs.csv\"\n",
    "top_world = pd.read_csv(url1)\n",
    "url2 = \"latin_top_songs.csv\"\n",
    "top_latin = pd.read_csv(url2)\n",
    "top_latin"
   ]
  },
  {
   "cell_type": "code",
   "execution_count": 3,
   "id": "a6d22031-1843-4fd9-88ee-a5466a6a781e",
   "metadata": {
    "scrolled": true,
    "tags": []
   },
   "outputs": [
    {
     "name": "stdout",
     "output_type": "stream",
     "text": [
      "Value found in the list.\n"
     ]
    },
    {
     "data": {
      "text/plain": [
       "['Lovin On Me',\n",
       " 'Lose Control',\n",
       " 'Beautiful Things',\n",
       " 'Cruel Summer',\n",
       " 'Snooze',\n",
       " 'I Remember Everything',\n",
       " 'Greedy',\n",
       " 'Fast Car',\n",
       " 'Agora Hills',\n",
       " 'Flowers',\n",
       " 'Stick Season',\n",
       " 'Water',\n",
       " 'Hiss',\n",
       " 'Redrum',\n",
       " 'Last Night',\n",
       " \"Thinkin' Bout Me\",\n",
       " 'Paint The Town Red',\n",
       " \"Is It Over Now? (Taylor's Version) [From The Vault]\",\n",
       " 'Never Lose Me',\n",
       " 'What Was I Made For?',\n",
       " 'Yes, And?',\n",
       " 'Houdini',\n",
       " 'Selfish',\n",
       " 'Pretty Little Poison',\n",
       " 'La Diabla',\n",
       " 'Where The Wild Things Are',\n",
       " 'Everybody',\n",
       " 'Made For Me',\n",
       " 'Vampire',\n",
       " 'The Painter',\n",
       " 'White Horse',\n",
       " 'Rich Baby Daddy',\n",
       " 'On My Mama',\n",
       " 'Exes',\n",
       " 'Wild Ones',\n",
       " 'Feather',\n",
       " 'Dance The Night',\n",
       " 'Bandit',\n",
       " 'Need A Favor',\n",
       " 'Save Me',\n",
       " 'Fukumean',\n",
       " 'Fast Car',\n",
       " 'Lil Boo Thang',\n",
       " 'World On Fire',\n",
       " 'Good Good',\n",
       " 'Truck Bed',\n",
       " 'First Person Shooter',\n",
       " 'Surround Sound',\n",
       " 'Strangers',\n",
       " 'My Love Mine All Mine',\n",
       " 'Spin You Around (1/24)',\n",
       " 'Think U The Shit (Fart)',\n",
       " 'Igual Que Un Angel',\n",
       " 'FTCU',\n",
       " 'Burn It Down',\n",
       " 'La Victima',\n",
       " 'One Of The Girls',\n",
       " 'Nee-nah',\n",
       " 'Murder On The Dancefloor',\n",
       " 'Praise Jah In The Moonlight',\n",
       " 'Act II: Date @ 8',\n",
       " 'Turn The Lights Back On',\n",
       " 'Man Made A Bar',\n",
       " 'One Call',\n",
       " 'You Broke My Heart',\n",
       " \"Different 'Round Here\",\n",
       " 'Harley Quinn',\n",
       " 'Get In With Me',\n",
       " 'FE!N',\n",
       " 'Bellakeo',\n",
       " '500lbs',\n",
       " 'IDGAF',\n",
       " 'I Can Feel It',\n",
       " '23',\n",
       " 'Prove It',\n",
       " 'Soak City',\n",
       " 'Monaco',\n",
       " \"Mamaw's House\",\n",
       " \"We Don't Fight Anymore\",\n",
       " 'Home',\n",
       " 'Standing Next To You',\n",
       " 'Perro Negro',\n",
       " 'Mmhmm',\n",
       " 'Oklahoma Smokeshow',\n",
       " 'My Eyes',\n",
       " 'Coal',\n",
       " 'A Cold Sunday',\n",
       " 'All Of Me',\n",
       " 'N.H.I.E.',\n",
       " \"Should've Wore A Bonnet\",\n",
       " 'Que Onda',\n",
       " 'Wondering Why',\n",
       " 'Y Lloro',\n",
       " 'Sensational',\n",
       " 'Wildflowers And Wild Horses',\n",
       " 'Worth It',\n",
       " 'Northern Attitude',\n",
       " 'Scared To Start',\n",
       " 'First Love',\n",
       " 'Where It Ends']"
      ]
     },
     "execution_count": 3,
     "metadata": {},
     "output_type": "execute_result"
    }
   ],
   "source": [
    "song_column_values = top_world['song'].tolist()\n",
    "\n",
    "for value in song_column_values:\n",
    "    if value == \"Que Onda\":\n",
    "        print(f\"Value found in the list.\")\n",
    "        break\n",
    "else:\n",
    "    print(f\"Value not found in the list.\")\n",
    "    \n",
    "song_column_values"
   ]
  },
  {
   "cell_type": "code",
   "execution_count": 4,
   "id": "20596198-dd93-4642-a6c4-448b6018b01b",
   "metadata": {
    "tags": []
   },
   "outputs": [
    {
     "name": "stdin",
     "output_type": "stream",
     "text": [
      "Enter a string:  dfjsd*&^%$#%$^%&*9\n"
     ]
    },
    {
     "name": "stdout",
     "output_type": "stream",
     "text": [
      "Cleaned input: dfjsd9\n"
     ]
    }
   ],
   "source": [
    "def clean_input(user_input):\n",
    "    # Remove leading and trailing spaces\n",
    "    cleaned_input = user_input.strip()\n",
    "    \n",
    "    # Convert to lowercase\n",
    "    cleaned_input = cleaned_input.lower()\n",
    "    \n",
    "    # Remove symbols using regular expression\n",
    "    cleaned_input = re.sub(r'[^\\w\\s]', '', cleaned_input)\n",
    "    \n",
    "    return cleaned_input\n",
    "\n",
    "# Example usage\n",
    "user_input = input(\"Enter a string: \")\n",
    "cleaned_input = clean_input(user_input)\n",
    "print(\"Cleaned input:\", cleaned_input)"
   ]
  },
  {
   "cell_type": "code",
   "execution_count": 5,
   "id": "1b5068f4-9586-4e77-a052-43bebdfb2172",
   "metadata": {},
   "outputs": [],
   "source": [
    "# Function to find the best match\n",
    "def find_best_match(user_input, column_values):\n",
    "    best_match = None\n",
    "    highest_similarity = 0\n",
    "\n",
    "    for value in column_values:\n",
    "        similarity = fuzz.partial_ratio(user_input, value)\n",
    "        if similarity > highest_similarity:\n",
    "            highest_similarity = similarity\n",
    "            best_match = value\n",
    "\n",
    "    return best_match, highest_similarity"
   ]
  },
  {
   "cell_type": "code",
   "execution_count": 6,
   "id": "3ca22eae-c6b4-4cf7-8519-f339a828195d",
   "metadata": {
    "tags": []
   },
   "outputs": [
    {
     "name": "stdin",
     "output_type": "stream",
     "text": [
      "Write one of your favorite songs love\n"
     ]
    },
    {
     "name": "stdout",
     "output_type": "stream",
     "text": [
      "Cleaned input: love\n",
      "Sorry, love is not one of the top world songs, but I can recommend you one of my favorite songs:\n",
      "DILUVIO\n"
     ]
    }
   ],
   "source": [
    "user_input= input('Write one of your favorite songs') #blind the user input against spaces, u/l case, allow the user try 3 times\n",
    "\n",
    "cleaned_input = clean_input(user_input)\n",
    "print(\"Cleaned input:\", cleaned_input)\n",
    "\n",
    "#flag_attempts= \n",
    "if cleaned_input in top_world[\"song\"].str.lower().values:\n",
    "    print(f\"Congrats {user_input} is one of the top world songs!, We recommend you to listen to: \")\n",
    "    song_column_values = top_world['song'].tolist()\n",
    "    random_song = random.choice(song_column_values)\n",
    "    if random_song== user_input:\n",
    "        u_random_song = random.choice(song_column_values)\n",
    "        print(u_random_song)\n",
    "    print(random_song)\n",
    "else:\n",
    "    print(f\"Sorry, {user_input} is not one of the top world songs, but I can recommend you one of my favorite songs:\")\n",
    "    l_song_column_values = top_latin['song'].tolist()\n",
    "    random_l_song = random.choice(l_song_column_values)\n",
    "    print(random_l_song)"
   ]
  },
  {
   "cell_type": "code",
   "execution_count": 7,
   "id": "dba912b8-56c8-4b01-a61e-56315c16f42e",
   "metadata": {},
   "outputs": [
    {
     "name": "stdin",
     "output_type": "stream",
     "text": [
      "We found a possible match: 'Flowers'. Is this what you mean? (yes/no):  no\n"
     ]
    },
    {
     "name": "stdout",
     "output_type": "stream",
     "text": [
      "Let's try again.\n"
     ]
    }
   ],
   "source": [
    "#Updated\n",
    "#Use the function to find the best match\n",
    "best_match, similarity = find_best_match(user_input, top_world['song'].values)\n",
    "\n",
    "# Check if similarity is at least 60%\n",
    "if similarity >= 60:\n",
    "    response = input(f\"We found a possible match: '{best_match}'. Is this what you mean? (yes/no): \")\n",
    "    if response.lower() == 'yes':\n",
    "        print(\"Great! Proceed with\", best_match)\n",
    "    else:\n",
    "        print(\"Let's try again.\")\n",
    "else:\n",
    "    print(\"No match found or similarity is below 60%.\")"
   ]
  },
  {
   "cell_type": "code",
   "execution_count": 8,
   "id": "4b8888a9-6b02-4bd3-8f61-4a83337fdbc7",
   "metadata": {
    "tags": []
   },
   "outputs": [
    {
     "name": "stdin",
     "output_type": "stream",
     "text": [
      "Write one of your favorite songs love\n",
      "We found a possible match: 'Flowers'. Is this what you mean? (yes/no):  no\n"
     ]
    },
    {
     "name": "stdout",
     "output_type": "stream",
     "text": [
      "Congrats love is one of the top world songs!, We recommend you to listen to: \n",
      "500lbs\n"
     ]
    }
   ],
   "source": [
    "user_input= input('Write one of your favorite songs')\n",
    "\n",
    "# Use the function to find the song that matches the best\n",
    "best_match, similarity = find_best_match(user_input, top_world['song'].values)\n",
    "\n",
    "if user_input in top_world[\"song\"].values:\n",
    "    print(f\"Congrats {user_input} is one of the top world songs!, We recommend you to listen to: \")\n",
    "    song_column_values = top_world['song'].tolist()\n",
    "    random_song = random.choice(song_column_values)\n",
    "    if random_song== user_input:\n",
    "        u_random_song = random.choice(song_column_values)\n",
    "        print(u_random_song)\n",
    "    else:\n",
    "        print(random_song)\n",
    "# Check if similarity is at least 60%\n",
    "elif similarity >= 60:\n",
    "    response = input(f\"We found a possible match: '{best_match}'. Is this what you mean? (yes/no): \")\n",
    "    if response.lower() == 'yes' or 'yeah'or 'yep'or 'ye':\n",
    "        ####convert this to a func\n",
    "        print(f\"Congrats {user_input} is one of the top world songs!, We recommend you to listen to: \")\n",
    "        song_column_values = top_world['song'].tolist()\n",
    "        random_song = random.choice(song_column_values)\n",
    "        if random_song== user_input:\n",
    "            s_random_song = random.choice(song_column_values)\n",
    "            print(s_random_song)\n",
    "    print(random_song)\n",
    "else:\n",
    "    print(f\"Sorry, {user_input} the song doesn't match or similarity is below 60% to the top world songs, but I can recommend you one of my favorite songs:\")\n",
    "    l_song_column_values = top_latin['song'].tolist()\n",
    "    random_l_song = random.choice(l_song_column_values)\n",
    "    print(random_l_song)"
   ]
  },
  {
   "cell_type": "code",
   "execution_count": null,
   "id": "b0558a5d-85af-4003-b7a7-d28707febfac",
   "metadata": {},
   "outputs": [],
   "source": []
  }
 ],
 "metadata": {
  "kernelspec": {
   "display_name": "Python 3 (ipykernel)",
   "language": "python",
   "name": "python3"
  },
  "language_info": {
   "codemirror_mode": {
    "name": "ipython",
    "version": 3
   },
   "file_extension": ".py",
   "mimetype": "text/x-python",
   "name": "python",
   "nbconvert_exporter": "python",
   "pygments_lexer": "ipython3",
   "version": "3.11.7"
  }
 },
 "nbformat": 4,
 "nbformat_minor": 5
}
