{
 "cells": [
  {
   "cell_type": "code",
   "execution_count": 1,
   "id": "6d56c850",
   "metadata": {},
   "outputs": [
    {
     "name": "stdout",
     "output_type": "stream",
     "text": [
      "Intel MKL WARNING: Support of Intel(R) Streaming SIMD Extensions 4.2 (Intel(R) SSE4.2) enabled only processors has been deprecated. Intel oneAPI Math Kernel Library 2025.0 will require Intel(R) Advanced Vector Extensions (Intel(R) AVX) instructions.\n",
      "Intel MKL WARNING: Support of Intel(R) Streaming SIMD Extensions 4.2 (Intel(R) SSE4.2) enabled only processors has been deprecated. Intel oneAPI Math Kernel Library 2025.0 will require Intel(R) Advanced Vector Extensions (Intel(R) AVX) instructions.\n"
     ]
    }
   ],
   "source": [
    "from bs4 import BeautifulSoup\n",
    "import requests\n",
    "import pandas as pd"
   ]
  },
  {
   "cell_type": "code",
   "execution_count": 2,
   "id": "a9769ead",
   "metadata": {},
   "outputs": [],
   "source": [
    "url = \"https://www.billboard.com/charts/hot-100/#\"\n",
    "response = requests.get(url)\n",
    "soup = BeautifulSoup(response.content)\n",
    "soup = BeautifulSoup(response.content, \"html.parser\")\n",
    "\n",
    "\n",
    "hiss= soup.select(\"h3.c-title.a-font-primary-bold-l\")"
   ]
  },
  {
   "cell_type": "code",
   "execution_count": 3,
   "id": "a10d7300",
   "metadata": {},
   "outputs": [
    {
     "data": {
      "text/plain": [
       "<h3 class=\"c-title a-font-primary-bold-l a-font-primary-bold-m@mobile-max lrv-u-color-black u-color-white@mobile-max lrv-u-margin-r-150\" id=\"\">\n",
       "<a class=\"c-title__link lrv-a-unstyle-link\" href=\"#\">\n",
       "\t\n",
       "\t\t\n",
       "\t\t\t\t\tLovin On Me\t\t\n",
       "\t\t\t\t\t</a>\n",
       "</h3>"
      ]
     },
     "execution_count": 3,
     "metadata": {},
     "output_type": "execute_result"
    }
   ],
   "source": [
    "hiss[0]#.get_text()"
   ]
  },
  {
   "cell_type": "code",
   "execution_count": 4,
   "id": "7dbf2a4d",
   "metadata": {},
   "outputs": [
    {
     "data": {
      "text/plain": [
       "'\\n\\n\\t\\n\\t\\t\\n\\t\\t\\t\\t\\tLovin On Me\\t\\t\\n\\t\\t\\t\\t\\t\\n'"
      ]
     },
     "execution_count": 4,
     "metadata": {},
     "output_type": "execute_result"
    }
   ],
   "source": [
    "hiss[0].get_text()#.strip() getting rid of empty spaces"
   ]
  },
  {
   "cell_type": "code",
   "execution_count": 5,
   "id": "a53c07b8",
   "metadata": {},
   "outputs": [
    {
     "data": {
      "text/plain": [
       "'Lovin On Me'"
      ]
     },
     "execution_count": 5,
     "metadata": {},
     "output_type": "execute_result"
    }
   ],
   "source": [
    "hiss[0].get_text(strip= True)"
   ]
  },
  {
   "cell_type": "code",
   "execution_count": 6,
   "id": "6983ff3d",
   "metadata": {
    "scrolled": true
   },
   "outputs": [
    {
     "data": {
      "text/plain": [
       "['Lovin On Me',\n",
       " 'Lose Control',\n",
       " 'Beautiful Things',\n",
       " 'Cruel Summer',\n",
       " 'Snooze',\n",
       " 'I Remember Everything',\n",
       " 'Greedy',\n",
       " 'Fast Car',\n",
       " 'Agora Hills',\n",
       " 'Flowers',\n",
       " 'Stick Season',\n",
       " 'Water',\n",
       " 'Hiss',\n",
       " 'Redrum',\n",
       " 'Last Night',\n",
       " \"Thinkin' Bout Me\",\n",
       " 'Paint The Town Red',\n",
       " \"Is It Over Now? (Taylor's Version) [From The Vault]\",\n",
       " 'Never Lose Me',\n",
       " 'What Was I Made For?',\n",
       " 'Yes, And?',\n",
       " 'Houdini',\n",
       " 'Selfish',\n",
       " 'Pretty Little Poison',\n",
       " 'La Diabla',\n",
       " 'Where The Wild Things Are',\n",
       " 'Everybody',\n",
       " 'Made For Me',\n",
       " 'Vampire',\n",
       " 'The Painter',\n",
       " 'White Horse',\n",
       " 'Rich Baby Daddy',\n",
       " 'On My Mama',\n",
       " 'Exes',\n",
       " 'Wild Ones',\n",
       " 'Feather',\n",
       " 'Dance The Night',\n",
       " 'Bandit',\n",
       " 'Need A Favor',\n",
       " 'Save Me',\n",
       " 'Fukumean',\n",
       " 'Fast Car',\n",
       " 'Lil Boo Thang',\n",
       " 'World On Fire',\n",
       " 'Good Good',\n",
       " 'Truck Bed',\n",
       " 'First Person Shooter',\n",
       " 'Surround Sound',\n",
       " 'Strangers',\n",
       " 'My Love Mine All Mine',\n",
       " 'Spin You Around (1/24)',\n",
       " 'Think U The Shit (Fart)',\n",
       " 'Igual Que Un Angel',\n",
       " 'FTCU',\n",
       " 'Burn It Down',\n",
       " 'La Victima',\n",
       " 'One Of The Girls',\n",
       " 'Nee-nah',\n",
       " 'Murder On The Dancefloor',\n",
       " 'Praise Jah In The Moonlight',\n",
       " 'Act II: Date @ 8',\n",
       " 'Turn The Lights Back On',\n",
       " 'Man Made A Bar',\n",
       " 'One Call',\n",
       " 'You Broke My Heart',\n",
       " \"Different 'Round Here\",\n",
       " 'Harley Quinn',\n",
       " 'Get In With Me',\n",
       " 'FE!N',\n",
       " 'Bellakeo',\n",
       " '500lbs',\n",
       " 'IDGAF',\n",
       " 'I Can Feel It',\n",
       " '23',\n",
       " 'Prove It',\n",
       " 'Soak City',\n",
       " 'Monaco',\n",
       " \"Mamaw's House\",\n",
       " \"We Don't Fight Anymore\",\n",
       " 'Home',\n",
       " 'Standing Next To You',\n",
       " 'Perro Negro',\n",
       " 'Mmhmm',\n",
       " 'Oklahoma Smokeshow',\n",
       " 'My Eyes',\n",
       " 'Coal',\n",
       " 'A Cold Sunday',\n",
       " 'All Of Me',\n",
       " 'N.H.I.E.',\n",
       " \"Should've Wore A Bonnet\",\n",
       " 'Que Onda',\n",
       " 'Wondering Why',\n",
       " 'Y Lloro',\n",
       " 'Sensational',\n",
       " 'Wildflowers And Wild Horses',\n",
       " 'Worth It',\n",
       " 'Northern Attitude',\n",
       " 'Scared To Start',\n",
       " 'First Love',\n",
       " 'Where It Ends']"
      ]
     },
     "execution_count": 6,
     "metadata": {},
     "output_type": "execute_result"
    }
   ],
   "source": [
    "songs= []\n",
    "for song in soup.select(\"li.o-chart-results-list__item h3.c-title\"):# span titles inside li element class booklink, just space to get the final\n",
    "    songs.append(song.get_text(strip=True))\n",
    "    \n",
    "songs"
   ]
  },
  {
   "cell_type": "code",
   "execution_count": 7,
   "id": "65b48f0b",
   "metadata": {
    "scrolled": true
   },
   "outputs": [
    {
     "data": {
      "text/plain": [
       "100"
      ]
     },
     "execution_count": 7,
     "metadata": {},
     "output_type": "execute_result"
    }
   ],
   "source": [
    "singers= []\n",
    "for singer in soup.select(\"li.o-chart-results-list__item span.c-label.a-no-trucate\"):# span titles inside li element class booklink, just space to get the final\n",
    "    singers.append(singer.get_text(strip=True))\n",
    "    \n",
    "len(singers)"
   ]
  },
  {
   "cell_type": "code",
   "execution_count": 8,
   "id": "be677586",
   "metadata": {},
   "outputs": [],
   "source": [
    "top_pop_songs = pd.DataFrame({'song': songs, 'artist':singers})\n",
    "top_pop_songs.to_csv('world_top_songs.csv', index= False)"
   ]
  },
  {
   "cell_type": "code",
   "execution_count": 9,
   "id": "88108115",
   "metadata": {},
   "outputs": [],
   "source": [
    "url = \"https://www.popvortex.com/music/charts/top-latin-songs.php\"\n",
    "response = requests.get(url)\n",
    "soup = BeautifulSoup(response.content)\n",
    "soup = BeautifulSoup(response.content, \"html.parser\")\n"
   ]
  },
  {
   "cell_type": "code",
   "execution_count": 10,
   "id": "ddb8f145",
   "metadata": {
    "scrolled": true
   },
   "outputs": [
    {
     "data": {
      "text/plain": [
       "['Igual Que Un Ángel',\n",
       " 'Sugar Daddy (feat. Flo Rida & Jowell & Randy)',\n",
       " 'La Diabla',\n",
       " 'Gasolina (Dj Buddha Remix)',\n",
       " 'La Víctima',\n",
       " 'MONACO',\n",
       " 'Necesito Encontrarte (En Vivo)',\n",
       " 'QLONA',\n",
       " 'HARLEY QUINN',\n",
       " 'BELLAKEO',\n",
       " 'La Primera Cita',\n",
       " 'Según Quién',\n",
       " 'First Love',\n",
       " 'La Suma',\n",
       " 'Bailando Bachata',\n",
       " 'Te Lo Agradezco',\n",
       " 'Pepas',\n",
       " 'MI EX TENÍA RAZÓN',\n",
       " 'Punta Cana',\n",
       " 'Danza Kuduro (feat. Lucenzo)',\n",
       " 'POR EL CONTRARIO (with Leonardo Aguilar & Ángela Aguilar)',\n",
       " 'La Intención',\n",
       " 'BONITA',\n",
       " 'Whenever, Wherever',\n",
       " \"Livin' la Vida Loca\",\n",
       " 'Tití Me Preguntó',\n",
       " 'un x100to',\n",
       " 'La Bebe (Remix)',\n",
       " 'Qué Agonía',\n",
       " 'Labios Mordidos',\n",
       " 'Modo DND',\n",
       " 'Vivir Mi Vida',\n",
       " 'Conga',\n",
       " 'Que Vuelvas',\n",
       " 'AMARGURA',\n",
       " 'Gasolina',\n",
       " 'Overnight',\n",
       " 'La Cumbia Triste',\n",
       " 'Young Miko: Bzrp Music Sessions, Vol. 58',\n",
       " 'Historia',\n",
       " 'BAD BOY (feat. Anuel AA & Ozuna)',\n",
       " 'Patadas de Ahogado',\n",
       " 'Eres Mía',\n",
       " 'Despacito',\n",
       " 'Mi Tierra',\n",
       " 'Ocean',\n",
       " 'Ella Baila Sola',\n",
       " 'Dreaming Of You',\n",
       " 'Confieso',\n",
       " 'TULUM',\n",
       " 'Give Me Everything (feat. Afrojack, Nayer and Neyo)',\n",
       " 'LALA',\n",
       " 'PERRO NEGRO',\n",
       " 'Lo Tienes Todo',\n",
       " 'Lollipop',\n",
       " 'Alucin',\n",
       " 'LA FALDA',\n",
       " 'BLING BLING',\n",
       " 'Sin Pagar Renta',\n",
       " \"No Está Pa' Nadie\",\n",
       " 'Suavemente',\n",
       " 'Promise (feat. Usher)',\n",
       " 'Macarena (Bayside Boys Remix)',\n",
       " 'DUELE EL CORAZON (feat. Wisin)',\n",
       " 'DÁKITI',\n",
       " 'MAMIII',\n",
       " 'TQG',\n",
       " 'Yo Te Extrañaré',\n",
       " 'La Bachata',\n",
       " 'Bailamos',\n",
       " 'I Like It (feat. Pitbull)',\n",
       " 'Bidi Bidi Bom Bom',\n",
       " 'LADY GAGA',\n",
       " 'Ya No Somos Ni Seremos',\n",
       " 'BOMBÓN',\n",
       " 'EL AMOR DE SU VIDA',\n",
       " 'RUBICON',\n",
       " 'ASI ES LA VIDA',\n",
       " 'Fría',\n",
       " 'El Amor De Mi Vida',\n",
       " 'DILUVIO',\n",
       " 'Poco A Poco',\n",
       " 'Tacata (Remix)',\n",
       " 'Somos Latinos',\n",
       " 'ALV',\n",
       " 'fantasmas',\n",
       " 'BUBALU',\n",
       " 'Alch Si',\n",
       " 'Porte de Scarface',\n",
       " 'Qué Bendición',\n",
       " 'El Mejor',\n",
       " 'GAVILÁN II',\n",
       " 'Bochinchero',\n",
       " 'Madrid City',\n",
       " 'TÚ NAME',\n",
       " 'Cuando Él Me Toca (feat. Arianny Aquino)',\n",
       " 'Asignatura Pendiente',\n",
       " 'tu',\n",
       " 'Fuego',\n",
       " 'Hotel California (Spanish Mix)']"
      ]
     },
     "execution_count": 10,
     "metadata": {},
     "output_type": "execute_result"
    }
   ],
   "source": [
    "l_songs= []\n",
    "for song in soup.select(\"p.title-artist cite.title\"):\n",
    "    l_songs.append(song.get_text())\n",
    "    \n",
    "l_songs"
   ]
  },
  {
   "cell_type": "code",
   "execution_count": 11,
   "id": "e9f88c51",
   "metadata": {
    "scrolled": true
   },
   "outputs": [
    {
     "data": {
      "text/plain": [
       "['Kali Uchis & Peso Pluma',\n",
       " 'Oya Baby, El Alfa & Alex Sensation',\n",
       " 'Xavi',\n",
       " 'Daddy Yankee, Lil Jon, Noriega & Pitbull',\n",
       " 'Xavi',\n",
       " 'Bad Bunny',\n",
       " 'Carin Leon',\n",
       " 'KAROL G & Peso Pluma',\n",
       " 'Fuerza Regida & Marshmello',\n",
       " 'Peso Pluma & Anitta',\n",
       " 'Carin Leon',\n",
       " 'Maluma & Carin Leon',\n",
       " 'Oscar Ortiz & Edgardo Nuñez',\n",
       " 'Javier Rosas y Su Artillería Pesada & Lupe Borbon y su Blindaje 7',\n",
       " 'Chayanne',\n",
       " 'Kany García & Carin Leon',\n",
       " 'Farruko',\n",
       " 'KAROL G',\n",
       " 'Marc Anthony',\n",
       " 'Don Omar',\n",
       " 'Becky G',\n",
       " 'Christian Nodal & Peso Pluma',\n",
       " 'Daddy Yankee',\n",
       " 'Shakira',\n",
       " 'Ricky Martin',\n",
       " 'Bad Bunny',\n",
       " 'Grupo Frontera & Bad Bunny',\n",
       " 'Yng Lvcas & Peso Pluma',\n",
       " 'Yuridia & Ángela Aguilar',\n",
       " 'Kali Uchis & KAROL G',\n",
       " 'Xavi & Tony Aguirre',\n",
       " 'Marc Anthony',\n",
       " 'Gloria Estefan & Gloria Estefan & Miami Sound Machine',\n",
       " 'Carin Leon & Grupo Frontera',\n",
       " 'KAROL G',\n",
       " 'Daddy Yankee',\n",
       " 'Connor Price & Tommy Royale',\n",
       " 'Los Ángeles Azules & Alejandro Fernández',\n",
       " 'Bizarrap & Young Miko',\n",
       " 'Jay Wheeler',\n",
       " 'Chris Jedi, Gaby Music & Dei V',\n",
       " 'LATIN MAFIA & Humbe',\n",
       " 'Romeo Santos',\n",
       " 'Luis Fonsi & Daddy Yankee',\n",
       " 'Gloria Estefan',\n",
       " 'KAROL G',\n",
       " 'Eslabon Armado & Peso Pluma',\n",
       " 'Selena',\n",
       " 'Kany García',\n",
       " 'Peso Pluma & Grupo Frontera',\n",
       " 'Pitbull',\n",
       " 'Myke Towers',\n",
       " 'Bad Bunny & Feid',\n",
       " 'Julión Álvarez y su Norteño Banda',\n",
       " 'Darell',\n",
       " 'Eugenio Esquivel, Grupo Marca Registrada & Sebastian Esquivel',\n",
       " 'Myke Towers',\n",
       " 'Maluma, Octavio Cuadras & Grupo Marca Registrada',\n",
       " 'Xavi',\n",
       " 'Julian Daza',\n",
       " 'Elvis Crespo',\n",
       " 'Romeo Santos',\n",
       " 'Los del Río',\n",
       " 'Enrique Iglesias',\n",
       " 'Bad Bunny & Jhayco',\n",
       " 'Becky G & KAROL G',\n",
       " 'KAROL G & Shakira',\n",
       " 'Tercer Cielo',\n",
       " 'Manuel Turizo',\n",
       " 'Enrique Iglesias',\n",
       " 'Enrique Iglesias',\n",
       " 'Selena',\n",
       " 'Peso Pluma, Gabito Ballesteros & Junior H',\n",
       " 'Christian Nodal',\n",
       " 'Daddy Yankee, El Alfa & Lil Jon',\n",
       " 'Grupo Frontera & Grupo Firme',\n",
       " 'Peso Pluma',\n",
       " 'Enrique Iglesias & Maria Becerra',\n",
       " 'Enrique Iglesias & Yotuel',\n",
       " 'Los Ángeles Azules & Maria Becerra',\n",
       " 'Rauw Alejandro',\n",
       " 'Xavi & Los Dareyes De La Sierra',\n",
       " 'Tiagz, Fuerza Regida & El Alfa',\n",
       " 'Play-N-Skillz, Gente de Zona & Dale Pututi',\n",
       " 'Arcángel & Grupo Frontera',\n",
       " 'Humbe',\n",
       " 'Feid & Rema',\n",
       " 'Carin Leon & Grupo Frontera',\n",
       " 'Chuy Montana',\n",
       " 'Chuy Montana',\n",
       " 'Chayín Rubio',\n",
       " 'Peso Pluma & Tito Double P',\n",
       " 'Motiff & Tito Nieves',\n",
       " 'Ana Mena',\n",
       " 'Fuerza Regida',\n",
       " 'Propósito',\n",
       " 'Alfredo Olivas',\n",
       " 'EthanUno',\n",
       " 'Pitbull',\n",
       " 'Gipsy Kings']"
      ]
     },
     "execution_count": 11,
     "metadata": {},
     "output_type": "execute_result"
    }
   ],
   "source": [
    "l_artists= []\n",
    "for artist in soup.select(\"p.title-artist em.artist\"):\n",
    "    l_artists.append(artist.get_text())\n",
    "    \n",
    "l_artists"
   ]
  },
  {
   "cell_type": "code",
   "execution_count": 12,
   "id": "ed6e05f7",
   "metadata": {},
   "outputs": [],
   "source": [
    "top_latin_songs = pd.DataFrame({'song': l_songs, 'artist':l_artists})\n",
    "top_latin_songs.to_csv(\"latin_top_songs.csv\", index= False)"
   ]
  },
  {
   "cell_type": "code",
   "execution_count": 13,
   "id": "dab7e40d",
   "metadata": {},
   "outputs": [
    {
     "data": {
      "text/plain": [
       "200"
      ]
     },
     "execution_count": 13,
     "metadata": {},
     "output_type": "execute_result"
    }
   ],
   "source": [
    "url = \"https://www.shazam.com/charts/top-200/mexico\"\n",
    "response= requests.get(url)\n",
    "soup= BeautifulSoup (response.content)\n",
    "response.status_code"
   ]
  },
  {
   "cell_type": "code",
   "execution_count": 14,
   "id": "6dedb884",
   "metadata": {},
   "outputs": [
    {
     "data": {
      "text/plain": [
       "[]"
      ]
     },
     "execution_count": 14,
     "metadata": {},
     "output_type": "execute_result"
    }
   ],
   "source": [
    "soup.select('a[href=\"https://music.apple.com/de/album/yeah-feat-lil-jon-ludacris/386153476?i=386153478\"]')"
   ]
  },
  {
   "cell_type": "code",
   "execution_count": 15,
   "id": "7db678ba",
   "metadata": {},
   "outputs": [
    {
     "data": {
      "text/plain": [
       "[]"
      ]
     },
     "execution_count": 15,
     "metadata": {},
     "output_type": "execute_result"
    }
   ],
   "source": [
    "top_mex_songs= []\n",
    "for song in soup.select(\"div.title\"):\n",
    "    top_mex_songs.append(song.get_text())\n",
    "    \n",
    "top_mex_songs"
   ]
  },
  {
   "cell_type": "code",
   "execution_count": null,
   "id": "498d4bc4",
   "metadata": {},
   "outputs": [],
   "source": []
  }
 ],
 "metadata": {
  "kernelspec": {
   "display_name": "Python 3 (ipykernel)",
   "language": "python",
   "name": "python3"
  },
  "language_info": {
   "codemirror_mode": {
    "name": "ipython",
    "version": 3
   },
   "file_extension": ".py",
   "mimetype": "text/x-python",
   "name": "python",
   "nbconvert_exporter": "python",
   "pygments_lexer": "ipython3",
   "version": "3.11.7"
  }
 },
 "nbformat": 4,
 "nbformat_minor": 5
}
